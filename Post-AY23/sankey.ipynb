{
 "cells": [
  {
   "cell_type": "code",
   "execution_count": 1,
   "metadata": {},
   "outputs": [],
   "source": [
    "import plotly.graph_objects as go\n",
    "import pandas as pd"
   ]
  },
  {
   "cell_type": "code",
   "execution_count": 51,
   "metadata": {},
   "outputs": [
    {
     "name": "stdout",
     "output_type": "stream",
     "text": [
      "Index(['Unnamed: 0', 'Program', 'Cluster_0', 'Cluster_1', 'Cluster_2',\n",
      "       'Cluster_3', 'Cluster_4', 'Cluster_5', 'Cluster_6', 'Cluster_7',\n",
      "       'Cluster_8', 'Cluster_9', 'Cluster_10'],\n",
      "      dtype='object')\n"
     ]
    },
    {
     "data": {
      "text/html": [
       "<div>\n",
       "<style scoped>\n",
       "    .dataframe tbody tr th:only-of-type {\n",
       "        vertical-align: middle;\n",
       "    }\n",
       "\n",
       "    .dataframe tbody tr th {\n",
       "        vertical-align: top;\n",
       "    }\n",
       "\n",
       "    .dataframe thead th {\n",
       "        text-align: right;\n",
       "    }\n",
       "</style>\n",
       "<table border=\"1\" class=\"dataframe\">\n",
       "  <thead>\n",
       "    <tr style=\"text-align: right;\">\n",
       "      <th></th>\n",
       "      <th>Unnamed: 0</th>\n",
       "      <th>Program</th>\n",
       "      <th>Cluster_0</th>\n",
       "      <th>Cluster_1</th>\n",
       "      <th>Cluster_2</th>\n",
       "      <th>Cluster_3</th>\n",
       "      <th>Cluster_4</th>\n",
       "      <th>Cluster_5</th>\n",
       "      <th>Cluster_6</th>\n",
       "      <th>Cluster_7</th>\n",
       "      <th>Cluster_8</th>\n",
       "      <th>Cluster_9</th>\n",
       "      <th>Cluster_10</th>\n",
       "      <th>Network</th>\n",
       "    </tr>\n",
       "  </thead>\n",
       "  <tbody>\n",
       "    <tr>\n",
       "      <th>0</th>\n",
       "      <td>0</td>\n",
       "      <td>CNN ANDERSON COOPER 360 DEGREES</td>\n",
       "      <td>0</td>\n",
       "      <td>7</td>\n",
       "      <td>13</td>\n",
       "      <td>20</td>\n",
       "      <td>24</td>\n",
       "      <td>31</td>\n",
       "      <td>38</td>\n",
       "      <td>42</td>\n",
       "      <td>49</td>\n",
       "      <td>55</td>\n",
       "      <td>61</td>\n",
       "      <td>CNN</td>\n",
       "    </tr>\n",
       "    <tr>\n",
       "      <th>3</th>\n",
       "      <td>3</td>\n",
       "      <td>CNN CNN LIVE EVENT/SPECIAL</td>\n",
       "      <td>0</td>\n",
       "      <td>7</td>\n",
       "      <td>12</td>\n",
       "      <td>20</td>\n",
       "      <td>24</td>\n",
       "      <td>31</td>\n",
       "      <td>38</td>\n",
       "      <td>42</td>\n",
       "      <td>48</td>\n",
       "      <td>55</td>\n",
       "      <td>61</td>\n",
       "      <td>CNN</td>\n",
       "    </tr>\n",
       "    <tr>\n",
       "      <th>4</th>\n",
       "      <td>4</td>\n",
       "      <td>CNN CNN NEWSROOM</td>\n",
       "      <td>2</td>\n",
       "      <td>8</td>\n",
       "      <td>13</td>\n",
       "      <td>20</td>\n",
       "      <td>24</td>\n",
       "      <td>31</td>\n",
       "      <td>38</td>\n",
       "      <td>44</td>\n",
       "      <td>50</td>\n",
       "      <td>56</td>\n",
       "      <td>61</td>\n",
       "      <td>CNN</td>\n",
       "    </tr>\n",
       "    <tr>\n",
       "      <th>5</th>\n",
       "      <td>5</td>\n",
       "      <td>CNN CNN RELIABLE SOURCES</td>\n",
       "      <td>2</td>\n",
       "      <td>8</td>\n",
       "      <td>13</td>\n",
       "      <td>19</td>\n",
       "      <td>24</td>\n",
       "      <td>31</td>\n",
       "      <td>38</td>\n",
       "      <td>44</td>\n",
       "      <td>50</td>\n",
       "      <td>55</td>\n",
       "      <td>61</td>\n",
       "      <td>CNN</td>\n",
       "    </tr>\n",
       "    <tr>\n",
       "      <th>7</th>\n",
       "      <td>7</td>\n",
       "      <td>CNN CNN Special Reports</td>\n",
       "      <td>0</td>\n",
       "      <td>6</td>\n",
       "      <td>12</td>\n",
       "      <td>20</td>\n",
       "      <td>24</td>\n",
       "      <td>30</td>\n",
       "      <td>36</td>\n",
       "      <td>42</td>\n",
       "      <td>49</td>\n",
       "      <td>55</td>\n",
       "      <td>61</td>\n",
       "      <td>CNN</td>\n",
       "    </tr>\n",
       "  </tbody>\n",
       "</table>\n",
       "</div>"
      ],
      "text/plain": [
       "   Unnamed: 0                          Program  Cluster_0  Cluster_1  \\\n",
       "0           0  CNN ANDERSON COOPER 360 DEGREES          0          7   \n",
       "3           3       CNN CNN LIVE EVENT/SPECIAL          0          7   \n",
       "4           4                 CNN CNN NEWSROOM          2          8   \n",
       "5           5         CNN CNN RELIABLE SOURCES          2          8   \n",
       "7           7          CNN CNN Special Reports          0          6   \n",
       "\n",
       "   Cluster_2  Cluster_3  Cluster_4  Cluster_5  Cluster_6  Cluster_7  \\\n",
       "0         13         20         24         31         38         42   \n",
       "3         12         20         24         31         38         42   \n",
       "4         13         20         24         31         38         44   \n",
       "5         13         19         24         31         38         44   \n",
       "7         12         20         24         30         36         42   \n",
       "\n",
       "   Cluster_8  Cluster_9  Cluster_10 Network  \n",
       "0         49         55          61     CNN  \n",
       "3         48         55          61     CNN  \n",
       "4         50         56          61     CNN  \n",
       "5         50         55          61     CNN  \n",
       "7         49         55          61     CNN  "
      ]
     },
     "execution_count": 51,
     "metadata": {},
     "output_type": "execute_result"
    }
   ],
   "source": [
    "df = pd.read_csv('clustersdf.csv')\n",
    "print(df.columns)\n",
    "#df = df.drop('Cluster_11', axis=1)\n",
    "df['Network'] = df['Program'].apply(lambda x: x.split()[0])\n",
    "df = df.dropna()\n",
    "clusts = ['Cluster_0','Cluster_1','Cluster_2','Cluster_3','Cluster_4','Cluster_5','Cluster_6','Cluster_7','Cluster_8','Cluster_9','Cluster_10']\n",
    "for c in range(len(clusts)):\n",
    "    df[clusts[c]] = df[clusts[c]].apply(lambda x: int(x) + c * 6) \n",
    "df.head()"
   ]
  },
  {
   "cell_type": "code",
   "execution_count": 52,
   "metadata": {},
   "outputs": [
    {
     "data": {
      "text/html": [
       "<div>\n",
       "<style scoped>\n",
       "    .dataframe tbody tr th:only-of-type {\n",
       "        vertical-align: middle;\n",
       "    }\n",
       "\n",
       "    .dataframe tbody tr th {\n",
       "        vertical-align: top;\n",
       "    }\n",
       "\n",
       "    .dataframe thead th {\n",
       "        text-align: right;\n",
       "    }\n",
       "</style>\n",
       "<table border=\"1\" class=\"dataframe\">\n",
       "  <thead>\n",
       "    <tr style=\"text-align: right;\">\n",
       "      <th></th>\n",
       "      <th>source</th>\n",
       "      <th>target</th>\n",
       "      <th>type</th>\n",
       "      <th>value</th>\n",
       "    </tr>\n",
       "  </thead>\n",
       "  <tbody>\n",
       "    <tr>\n",
       "      <th>0</th>\n",
       "      <td>0</td>\n",
       "      <td>6</td>\n",
       "      <td>CNN</td>\n",
       "      <td>1</td>\n",
       "    </tr>\n",
       "    <tr>\n",
       "      <th>1</th>\n",
       "      <td>0</td>\n",
       "      <td>6</td>\n",
       "      <td>Fox</td>\n",
       "      <td>10</td>\n",
       "    </tr>\n",
       "    <tr>\n",
       "      <th>2</th>\n",
       "      <td>0</td>\n",
       "      <td>7</td>\n",
       "      <td>CNN</td>\n",
       "      <td>10</td>\n",
       "    </tr>\n",
       "    <tr>\n",
       "      <th>3</th>\n",
       "      <td>0</td>\n",
       "      <td>7</td>\n",
       "      <td>Fox</td>\n",
       "      <td>1</td>\n",
       "    </tr>\n",
       "    <tr>\n",
       "      <th>4</th>\n",
       "      <td>0</td>\n",
       "      <td>7</td>\n",
       "      <td>MSNBC</td>\n",
       "      <td>6</td>\n",
       "    </tr>\n",
       "  </tbody>\n",
       "</table>\n",
       "</div>"
      ],
      "text/plain": [
       "   source  target   type  value\n",
       "0       0       6    CNN      1\n",
       "1       0       6    Fox     10\n",
       "2       0       7    CNN     10\n",
       "3       0       7    Fox      1\n",
       "4       0       7  MSNBC      6"
      ]
     },
     "execution_count": 52,
     "metadata": {},
     "output_type": "execute_result"
    }
   ],
   "source": [
    "\n",
    "clustdf = pd.DataFrame(columns=['source','target','type','value'])\n",
    "for i in range(len(clusts) - 1):\n",
    "    cdf = df.groupby([clusts[i],clusts[i + 1], 'Network']).agg({\"Program\": \"count\"})\n",
    "    #print(cdf.head())\n",
    "    for i in cdf.index:\n",
    "        clustdf.loc[len(clustdf)] = [i[0],i[1],i[2],cdf.loc[i]['Program']]\n",
    "clustdf.head()\n"
   ]
  },
  {
   "cell_type": "code",
   "execution_count": 53,
   "metadata": {},
   "outputs": [
    {
     "name": "stdout",
     "output_type": "stream",
     "text": [
      "['tan', 'red', 'tan', 'red', 'blue', 'tan', 'blue', 'blue', 'tan', 'red', 'red', 'tan', 'tan', 'red', 'tan', 'red', 'tan', 'red', 'blue', 'tan', 'blue', 'tan', 'red', 'blue', 'tan', 'red', 'blue', 'tan', 'tan', 'tan', 'tan', 'red', 'red', 'blue', 'tan', 'tan', 'red', 'tan', 'red', 'blue', 'tan', 'tan', 'tan', 'tan', 'tan', 'red', 'red', 'red', 'tan', 'red', 'blue', 'tan', 'red', 'red', 'tan', 'red', 'blue', 'tan', 'blue', 'tan', 'red', 'blue', 'tan', 'blue', 'tan', 'tan', 'red', 'tan', 'red', 'blue', 'tan', 'tan', 'red', 'tan', 'red', 'tan', 'red', 'blue', 'tan', 'tan', 'red', 'red', 'tan', 'red', 'blue', 'tan', 'tan']\n"
     ]
    },
    {
     "data": {
      "application/vnd.plotly.v1+json": {
       "config": {
        "plotlyServerURL": "https://plot.ly"
       },
       "data": [
        {
         "link": {
          "color": [
           "tan",
           "red",
           "tan",
           "red",
           "blue",
           "tan",
           "blue",
           "blue",
           "tan",
           "red",
           "red",
           "tan",
           "tan",
           "red",
           "tan",
           "red",
           "tan",
           "red",
           "blue",
           "tan",
           "blue",
           "tan",
           "red",
           "blue",
           "tan",
           "red",
           "blue",
           "tan",
           "tan",
           "tan",
           "tan",
           "red",
           "red",
           "blue",
           "tan",
           "tan",
           "red",
           "tan",
           "red",
           "blue",
           "tan",
           "tan",
           "tan",
           "tan",
           "tan",
           "red",
           "red",
           "red",
           "tan",
           "red",
           "blue",
           "tan",
           "red",
           "red",
           "tan",
           "red",
           "blue",
           "tan",
           "blue",
           "tan",
           "red",
           "blue",
           "tan",
           "blue",
           "tan",
           "tan",
           "red",
           "tan",
           "red",
           "blue",
           "tan",
           "tan",
           "red",
           "tan",
           "red",
           "tan",
           "red",
           "blue",
           "tan",
           "tan",
           "red",
           "red",
           "tan",
           "red",
           "blue",
           "tan",
           "tan"
          ],
          "source": [
           0,
           0,
           0,
           0,
           0,
           0,
           0,
           1,
           2,
           2,
           2,
           2,
           6,
           6,
           6,
           6,
           7,
           7,
           7,
           7,
           8,
           8,
           12,
           12,
           12,
           12,
           12,
           12,
           13,
           13,
           14,
           14,
           18,
           18,
           19,
           19,
           19,
           19,
           19,
           19,
           20,
           20,
           24,
           24,
           25,
           25,
           25,
           26,
           26,
           26,
           26,
           30,
           30,
           31,
           31,
           32,
           32,
           32,
           32,
           36,
           36,
           37,
           38,
           38,
           38,
           42,
           42,
           42,
           42,
           42,
           42,
           44,
           48,
           48,
           49,
           49,
           49,
           49,
           50,
           50,
           54,
           54,
           55,
           55,
           55,
           55,
           56
          ],
          "target": [
           6,
           6,
           7,
           7,
           7,
           8,
           8,
           7,
           6,
           6,
           7,
           8,
           12,
           12,
           14,
           14,
           12,
           12,
           12,
           13,
           12,
           13,
           18,
           18,
           19,
           19,
           19,
           20,
           19,
           20,
           19,
           19,
           26,
           26,
           24,
           25,
           25,
           26,
           26,
           26,
           24,
           25,
           30,
           31,
           30,
           30,
           31,
           30,
           32,
           32,
           32,
           36,
           36,
           36,
           38,
           36,
           37,
           38,
           38,
           42,
           42,
           42,
           42,
           42,
           44,
           48,
           48,
           49,
           49,
           49,
           50,
           50,
           54,
           55,
           54,
           55,
           55,
           55,
           55,
           56,
           61,
           62,
           61,
           61,
           61,
           62,
           61
          ],
          "value": [
           1,
           10,
           10,
           1,
           6,
           1,
           1,
           1,
           1,
           4,
           1,
           4,
           1,
           4,
           1,
           10,
           6,
           2,
           7,
           4,
           1,
           5,
           1,
           6,
           4,
           5,
           2,
           3,
           2,
           7,
           1,
           10,
           1,
           6,
           2,
           1,
           14,
           4,
           1,
           2,
           9,
           1,
           1,
           10,
           2,
           13,
           1,
           1,
           4,
           1,
           8,
           3,
           14,
           1,
           10,
           1,
           7,
           4,
           1,
           3,
           16,
           7,
           6,
           1,
           8,
           2,
           14,
           6,
           2,
           8,
           1,
           8,
           14,
           2,
           1,
           6,
           1,
           8,
           6,
           3,
           2,
           13,
           13,
           1,
           8,
           1,
           3
          ]
         },
         "node": {
          "color": "black",
          "label": [],
          "line": {
           "color": "black",
           "width": 0.5
          },
          "pad": 30,
          "thickness": 10
         },
         "type": "sankey"
        }
       ],
       "layout": {
        "font": {
         "size": 10
        },
        "template": {
         "data": {
          "bar": [
           {
            "error_x": {
             "color": "#2a3f5f"
            },
            "error_y": {
             "color": "#2a3f5f"
            },
            "marker": {
             "line": {
              "color": "#E5ECF6",
              "width": 0.5
             },
             "pattern": {
              "fillmode": "overlay",
              "size": 10,
              "solidity": 0.2
             }
            },
            "type": "bar"
           }
          ],
          "barpolar": [
           {
            "marker": {
             "line": {
              "color": "#E5ECF6",
              "width": 0.5
             },
             "pattern": {
              "fillmode": "overlay",
              "size": 10,
              "solidity": 0.2
             }
            },
            "type": "barpolar"
           }
          ],
          "carpet": [
           {
            "aaxis": {
             "endlinecolor": "#2a3f5f",
             "gridcolor": "white",
             "linecolor": "white",
             "minorgridcolor": "white",
             "startlinecolor": "#2a3f5f"
            },
            "baxis": {
             "endlinecolor": "#2a3f5f",
             "gridcolor": "white",
             "linecolor": "white",
             "minorgridcolor": "white",
             "startlinecolor": "#2a3f5f"
            },
            "type": "carpet"
           }
          ],
          "choropleth": [
           {
            "colorbar": {
             "outlinewidth": 0,
             "ticks": ""
            },
            "type": "choropleth"
           }
          ],
          "contour": [
           {
            "colorbar": {
             "outlinewidth": 0,
             "ticks": ""
            },
            "colorscale": [
             [
              0,
              "#0d0887"
             ],
             [
              0.1111111111111111,
              "#46039f"
             ],
             [
              0.2222222222222222,
              "#7201a8"
             ],
             [
              0.3333333333333333,
              "#9c179e"
             ],
             [
              0.4444444444444444,
              "#bd3786"
             ],
             [
              0.5555555555555556,
              "#d8576b"
             ],
             [
              0.6666666666666666,
              "#ed7953"
             ],
             [
              0.7777777777777778,
              "#fb9f3a"
             ],
             [
              0.8888888888888888,
              "#fdca26"
             ],
             [
              1,
              "#f0f921"
             ]
            ],
            "type": "contour"
           }
          ],
          "contourcarpet": [
           {
            "colorbar": {
             "outlinewidth": 0,
             "ticks": ""
            },
            "type": "contourcarpet"
           }
          ],
          "heatmap": [
           {
            "colorbar": {
             "outlinewidth": 0,
             "ticks": ""
            },
            "colorscale": [
             [
              0,
              "#0d0887"
             ],
             [
              0.1111111111111111,
              "#46039f"
             ],
             [
              0.2222222222222222,
              "#7201a8"
             ],
             [
              0.3333333333333333,
              "#9c179e"
             ],
             [
              0.4444444444444444,
              "#bd3786"
             ],
             [
              0.5555555555555556,
              "#d8576b"
             ],
             [
              0.6666666666666666,
              "#ed7953"
             ],
             [
              0.7777777777777778,
              "#fb9f3a"
             ],
             [
              0.8888888888888888,
              "#fdca26"
             ],
             [
              1,
              "#f0f921"
             ]
            ],
            "type": "heatmap"
           }
          ],
          "heatmapgl": [
           {
            "colorbar": {
             "outlinewidth": 0,
             "ticks": ""
            },
            "colorscale": [
             [
              0,
              "#0d0887"
             ],
             [
              0.1111111111111111,
              "#46039f"
             ],
             [
              0.2222222222222222,
              "#7201a8"
             ],
             [
              0.3333333333333333,
              "#9c179e"
             ],
             [
              0.4444444444444444,
              "#bd3786"
             ],
             [
              0.5555555555555556,
              "#d8576b"
             ],
             [
              0.6666666666666666,
              "#ed7953"
             ],
             [
              0.7777777777777778,
              "#fb9f3a"
             ],
             [
              0.8888888888888888,
              "#fdca26"
             ],
             [
              1,
              "#f0f921"
             ]
            ],
            "type": "heatmapgl"
           }
          ],
          "histogram": [
           {
            "marker": {
             "pattern": {
              "fillmode": "overlay",
              "size": 10,
              "solidity": 0.2
             }
            },
            "type": "histogram"
           }
          ],
          "histogram2d": [
           {
            "colorbar": {
             "outlinewidth": 0,
             "ticks": ""
            },
            "colorscale": [
             [
              0,
              "#0d0887"
             ],
             [
              0.1111111111111111,
              "#46039f"
             ],
             [
              0.2222222222222222,
              "#7201a8"
             ],
             [
              0.3333333333333333,
              "#9c179e"
             ],
             [
              0.4444444444444444,
              "#bd3786"
             ],
             [
              0.5555555555555556,
              "#d8576b"
             ],
             [
              0.6666666666666666,
              "#ed7953"
             ],
             [
              0.7777777777777778,
              "#fb9f3a"
             ],
             [
              0.8888888888888888,
              "#fdca26"
             ],
             [
              1,
              "#f0f921"
             ]
            ],
            "type": "histogram2d"
           }
          ],
          "histogram2dcontour": [
           {
            "colorbar": {
             "outlinewidth": 0,
             "ticks": ""
            },
            "colorscale": [
             [
              0,
              "#0d0887"
             ],
             [
              0.1111111111111111,
              "#46039f"
             ],
             [
              0.2222222222222222,
              "#7201a8"
             ],
             [
              0.3333333333333333,
              "#9c179e"
             ],
             [
              0.4444444444444444,
              "#bd3786"
             ],
             [
              0.5555555555555556,
              "#d8576b"
             ],
             [
              0.6666666666666666,
              "#ed7953"
             ],
             [
              0.7777777777777778,
              "#fb9f3a"
             ],
             [
              0.8888888888888888,
              "#fdca26"
             ],
             [
              1,
              "#f0f921"
             ]
            ],
            "type": "histogram2dcontour"
           }
          ],
          "mesh3d": [
           {
            "colorbar": {
             "outlinewidth": 0,
             "ticks": ""
            },
            "type": "mesh3d"
           }
          ],
          "parcoords": [
           {
            "line": {
             "colorbar": {
              "outlinewidth": 0,
              "ticks": ""
             }
            },
            "type": "parcoords"
           }
          ],
          "pie": [
           {
            "automargin": true,
            "type": "pie"
           }
          ],
          "scatter": [
           {
            "fillpattern": {
             "fillmode": "overlay",
             "size": 10,
             "solidity": 0.2
            },
            "type": "scatter"
           }
          ],
          "scatter3d": [
           {
            "line": {
             "colorbar": {
              "outlinewidth": 0,
              "ticks": ""
             }
            },
            "marker": {
             "colorbar": {
              "outlinewidth": 0,
              "ticks": ""
             }
            },
            "type": "scatter3d"
           }
          ],
          "scattercarpet": [
           {
            "marker": {
             "colorbar": {
              "outlinewidth": 0,
              "ticks": ""
             }
            },
            "type": "scattercarpet"
           }
          ],
          "scattergeo": [
           {
            "marker": {
             "colorbar": {
              "outlinewidth": 0,
              "ticks": ""
             }
            },
            "type": "scattergeo"
           }
          ],
          "scattergl": [
           {
            "marker": {
             "colorbar": {
              "outlinewidth": 0,
              "ticks": ""
             }
            },
            "type": "scattergl"
           }
          ],
          "scattermapbox": [
           {
            "marker": {
             "colorbar": {
              "outlinewidth": 0,
              "ticks": ""
             }
            },
            "type": "scattermapbox"
           }
          ],
          "scatterpolar": [
           {
            "marker": {
             "colorbar": {
              "outlinewidth": 0,
              "ticks": ""
             }
            },
            "type": "scatterpolar"
           }
          ],
          "scatterpolargl": [
           {
            "marker": {
             "colorbar": {
              "outlinewidth": 0,
              "ticks": ""
             }
            },
            "type": "scatterpolargl"
           }
          ],
          "scatterternary": [
           {
            "marker": {
             "colorbar": {
              "outlinewidth": 0,
              "ticks": ""
             }
            },
            "type": "scatterternary"
           }
          ],
          "surface": [
           {
            "colorbar": {
             "outlinewidth": 0,
             "ticks": ""
            },
            "colorscale": [
             [
              0,
              "#0d0887"
             ],
             [
              0.1111111111111111,
              "#46039f"
             ],
             [
              0.2222222222222222,
              "#7201a8"
             ],
             [
              0.3333333333333333,
              "#9c179e"
             ],
             [
              0.4444444444444444,
              "#bd3786"
             ],
             [
              0.5555555555555556,
              "#d8576b"
             ],
             [
              0.6666666666666666,
              "#ed7953"
             ],
             [
              0.7777777777777778,
              "#fb9f3a"
             ],
             [
              0.8888888888888888,
              "#fdca26"
             ],
             [
              1,
              "#f0f921"
             ]
            ],
            "type": "surface"
           }
          ],
          "table": [
           {
            "cells": {
             "fill": {
              "color": "#EBF0F8"
             },
             "line": {
              "color": "white"
             }
            },
            "header": {
             "fill": {
              "color": "#C8D4E3"
             },
             "line": {
              "color": "white"
             }
            },
            "type": "table"
           }
          ]
         },
         "layout": {
          "annotationdefaults": {
           "arrowcolor": "#2a3f5f",
           "arrowhead": 0,
           "arrowwidth": 1
          },
          "autotypenumbers": "strict",
          "coloraxis": {
           "colorbar": {
            "outlinewidth": 0,
            "ticks": ""
           }
          },
          "colorscale": {
           "diverging": [
            [
             0,
             "#8e0152"
            ],
            [
             0.1,
             "#c51b7d"
            ],
            [
             0.2,
             "#de77ae"
            ],
            [
             0.3,
             "#f1b6da"
            ],
            [
             0.4,
             "#fde0ef"
            ],
            [
             0.5,
             "#f7f7f7"
            ],
            [
             0.6,
             "#e6f5d0"
            ],
            [
             0.7,
             "#b8e186"
            ],
            [
             0.8,
             "#7fbc41"
            ],
            [
             0.9,
             "#4d9221"
            ],
            [
             1,
             "#276419"
            ]
           ],
           "sequential": [
            [
             0,
             "#0d0887"
            ],
            [
             0.1111111111111111,
             "#46039f"
            ],
            [
             0.2222222222222222,
             "#7201a8"
            ],
            [
             0.3333333333333333,
             "#9c179e"
            ],
            [
             0.4444444444444444,
             "#bd3786"
            ],
            [
             0.5555555555555556,
             "#d8576b"
            ],
            [
             0.6666666666666666,
             "#ed7953"
            ],
            [
             0.7777777777777778,
             "#fb9f3a"
            ],
            [
             0.8888888888888888,
             "#fdca26"
            ],
            [
             1,
             "#f0f921"
            ]
           ],
           "sequentialminus": [
            [
             0,
             "#0d0887"
            ],
            [
             0.1111111111111111,
             "#46039f"
            ],
            [
             0.2222222222222222,
             "#7201a8"
            ],
            [
             0.3333333333333333,
             "#9c179e"
            ],
            [
             0.4444444444444444,
             "#bd3786"
            ],
            [
             0.5555555555555556,
             "#d8576b"
            ],
            [
             0.6666666666666666,
             "#ed7953"
            ],
            [
             0.7777777777777778,
             "#fb9f3a"
            ],
            [
             0.8888888888888888,
             "#fdca26"
            ],
            [
             1,
             "#f0f921"
            ]
           ]
          },
          "colorway": [
           "#636efa",
           "#EF553B",
           "#00cc96",
           "#ab63fa",
           "#FFA15A",
           "#19d3f3",
           "#FF6692",
           "#B6E880",
           "#FF97FF",
           "#FECB52"
          ],
          "font": {
           "color": "#2a3f5f"
          },
          "geo": {
           "bgcolor": "white",
           "lakecolor": "white",
           "landcolor": "#E5ECF6",
           "showlakes": true,
           "showland": true,
           "subunitcolor": "white"
          },
          "hoverlabel": {
           "align": "left"
          },
          "hovermode": "closest",
          "mapbox": {
           "style": "light"
          },
          "paper_bgcolor": "white",
          "plot_bgcolor": "#E5ECF6",
          "polar": {
           "angularaxis": {
            "gridcolor": "white",
            "linecolor": "white",
            "ticks": ""
           },
           "bgcolor": "#E5ECF6",
           "radialaxis": {
            "gridcolor": "white",
            "linecolor": "white",
            "ticks": ""
           }
          },
          "scene": {
           "xaxis": {
            "backgroundcolor": "#E5ECF6",
            "gridcolor": "white",
            "gridwidth": 2,
            "linecolor": "white",
            "showbackground": true,
            "ticks": "",
            "zerolinecolor": "white"
           },
           "yaxis": {
            "backgroundcolor": "#E5ECF6",
            "gridcolor": "white",
            "gridwidth": 2,
            "linecolor": "white",
            "showbackground": true,
            "ticks": "",
            "zerolinecolor": "white"
           },
           "zaxis": {
            "backgroundcolor": "#E5ECF6",
            "gridcolor": "white",
            "gridwidth": 2,
            "linecolor": "white",
            "showbackground": true,
            "ticks": "",
            "zerolinecolor": "white"
           }
          },
          "shapedefaults": {
           "line": {
            "color": "#2a3f5f"
           }
          },
          "ternary": {
           "aaxis": {
            "gridcolor": "white",
            "linecolor": "white",
            "ticks": ""
           },
           "baxis": {
            "gridcolor": "white",
            "linecolor": "white",
            "ticks": ""
           },
           "bgcolor": "#E5ECF6",
           "caxis": {
            "gridcolor": "white",
            "linecolor": "white",
            "ticks": ""
           }
          },
          "title": {
           "x": 0.05
          },
          "xaxis": {
           "automargin": true,
           "gridcolor": "white",
           "linecolor": "white",
           "ticks": "",
           "title": {
            "standoff": 15
           },
           "zerolinecolor": "white",
           "zerolinewidth": 2
          },
          "yaxis": {
           "automargin": true,
           "gridcolor": "white",
           "linecolor": "white",
           "ticks": "",
           "title": {
            "standoff": 15
           },
           "zerolinecolor": "white",
           "zerolinewidth": 2
          }
         }
        },
        "title": {
         "text": "Topic-Sentiment Similarity Clusters 2020"
        }
       }
      }
     },
     "metadata": {},
     "output_type": "display_data"
    }
   ],
   "source": [
    "\n",
    "color_link = list(clustdf['type'])\n",
    "color_link = list(map(lambda x: x.replace('CNN', 'tan').replace('MSNBC', 'blue').replace('Fox', 'red'), color_link))\n",
    "print(color_link)\n",
    "\n",
    "fig = go.Figure(data=[go.Sankey(\n",
    "    node = dict(\n",
    "      pad = 30,\n",
    "      thickness = 10,\n",
    "      line = dict(color = \"black\", width = 0.5),\n",
    "      label = [],#[\"January\",\"January\",\"January\",\"February\",\"February\",\"February\", \"March\",\"March\",\"March\",\"April\",\"April\",\"April\",\n",
    "               #\"May\",\"May\",\"May\",'June','June','June','July','July','July','August','August','August','September','September','September','October','October','October','November','November','November'],\n",
    "      color = \"black\"\n",
    "    ),\n",
    "    link = dict(\n",
    "      source = clustdf['source'],#[0, 1, 0, 2, 3, 3], # indices correspond to labels, eg A1, A2, A1, B1, ...\n",
    "      target = clustdf['target'],#[2, 3, 3, 4, 4, 5],\n",
    "      value = clustdf['value'], #[8, 4, 2, 8, 4, 2]\n",
    "      color = color_link\n",
    "  ))])\n",
    "\n",
    "fig.update_layout(title_text=\"Topic-Sentiment Similarity Clusters 2020\", font_size=10)\n",
    "fig.show()"
   ]
  },
  {
   "cell_type": "code",
   "execution_count": 24,
   "metadata": {},
   "outputs": [
    {
     "name": "stdout",
     "output_type": "stream",
     "text": [
      "   Unnamed: 0                          Program  Cluster_0  Cluster_1  \\\n",
      "0           0  CNN ANDERSON COOPER 360 DEGREES          1          8   \n",
      "\n",
      "   Cluster_2  Cluster_3  Cluster_4  Cluster_5  Cluster_6  Cluster_7  \\\n",
      "0         14         18         25         31         36         44   \n",
      "\n",
      "   Cluster_8  Cluster_9  Cluster_10 Network  \n",
      "0         50         54          61     CNN  \n",
      "   Unnamed: 0                     Program  Cluster_0  Cluster_1  Cluster_2  \\\n",
      "3           3  CNN CNN LIVE EVENT/SPECIAL          1          7         14   \n",
      "\n",
      "   Cluster_3  Cluster_4  Cluster_5  Cluster_6  Cluster_7  Cluster_8  \\\n",
      "3         18         25         31         36         42         48   \n",
      "\n",
      "   Cluster_9  Cluster_10 Network  \n",
      "3         54          60     CNN  \n",
      "   Unnamed: 0           Program  Cluster_0  Cluster_1  Cluster_2  Cluster_3  \\\n",
      "4           4  CNN CNN NEWSROOM          0          8         14         18   \n",
      "\n",
      "   Cluster_4  Cluster_5  Cluster_6  Cluster_7  Cluster_8  Cluster_9  \\\n",
      "4         25         31         36         44         50         54   \n",
      "\n",
      "   Cluster_10 Network  \n",
      "4          61     CNN  \n",
      "   Unnamed: 0                   Program  Cluster_0  Cluster_1  Cluster_2  \\\n",
      "5           5  CNN CNN RELIABLE SOURCES          0          8         14   \n",
      "\n",
      "   Cluster_3  Cluster_4  Cluster_5  Cluster_6  Cluster_7  Cluster_8  \\\n",
      "5         18         25         31         36         42         50   \n",
      "\n",
      "   Cluster_9  Cluster_10 Network  \n",
      "5         54          61     CNN  \n",
      "   Unnamed: 0                  Program  Cluster_0  Cluster_1  Cluster_2  \\\n",
      "7           7  CNN CNN Special Reports          1          7         13   \n",
      "\n",
      "   Cluster_3  Cluster_4  Cluster_5  Cluster_6  Cluster_7  Cluster_8  \\\n",
      "7         18         25         31         36         42         50   \n",
      "\n",
      "   Cluster_9  Cluster_10 Network  \n",
      "7         54          61     CNN  \n",
      "   Unnamed: 0          Program  Cluster_0  Cluster_1  Cluster_2  Cluster_3  \\\n",
      "8           8  CNN CNN Tonight          1          8         14         18   \n",
      "\n",
      "   Cluster_4  Cluster_5  Cluster_6  Cluster_7  Cluster_8  Cluster_9  \\\n",
      "8         25         31         36         44         50         54   \n",
      "\n",
      "   Cluster_10 Network  \n",
      "8          61     CNN  \n",
      "   Unnamed: 0               Program  Cluster_0  Cluster_1  Cluster_2  \\\n",
      "9           9  CNN CUOMO PRIME TIME          1          7         13   \n",
      "\n",
      "   Cluster_3  Cluster_4  Cluster_5  Cluster_6  Cluster_7  Cluster_8  \\\n",
      "9         18         25         31         36         42         48   \n",
      "\n",
      "   Cluster_9  Cluster_10 Network  \n",
      "9         55          60     CNN  \n",
      "    Unnamed: 0                    Program  Cluster_0  Cluster_1  Cluster_2  \\\n",
      "11          11  CNN ERIN BURNETT OUTFRONT          1          8         14   \n",
      "\n",
      "    Cluster_3  Cluster_4  Cluster_5  Cluster_6  Cluster_7  Cluster_8  \\\n",
      "11         18         25         31         36         42         50   \n",
      "\n",
      "    Cluster_9  Cluster_10 Network  \n",
      "11         54          60     CNN  \n",
      "    Unnamed: 0                 Program  Cluster_0  Cluster_1  Cluster_2  \\\n",
      "12          12  CNN FAREED ZAKARIA GPS          0          7         13   \n",
      "\n",
      "    Cluster_3  Cluster_4  Cluster_5  Cluster_6  Cluster_7  Cluster_8  \\\n",
      "12         19         24         31         38         42         48   \n",
      "\n",
      "    Cluster_9  Cluster_10 Network  \n",
      "12         55          61     CNN  \n",
      "    Unnamed: 0              Program  Cluster_0  Cluster_1  Cluster_2  \\\n",
      "13          13  CNN Inside Politics          1          8         14   \n",
      "\n",
      "    Cluster_3  Cluster_4  Cluster_5  Cluster_6  Cluster_7  Cluster_8  \\\n",
      "13         19         24         31         38         42         48   \n",
      "\n",
      "    Cluster_9  Cluster_10 Network  \n",
      "13         54          60     CNN  \n",
      "    Unnamed: 0      Program  Cluster_0  Cluster_1  Cluster_2  Cluster_3  \\\n",
      "14          14  CNN New Day          0          8         14         18   \n",
      "\n",
      "    Cluster_4  Cluster_5  Cluster_6  Cluster_7  Cluster_8  Cluster_9  \\\n",
      "14         25         31         36         44         50         54   \n",
      "\n",
      "    Cluster_10 Network  \n",
      "14          61     CNN  \n",
      "    Unnamed: 0               Program  Cluster_0  Cluster_1  Cluster_2  \\\n",
      "15          15  CNN New Day Saturday          0          8         14   \n",
      "\n",
      "    Cluster_3  Cluster_4  Cluster_5  Cluster_6  Cluster_7  Cluster_8  \\\n",
      "15         18         25         31         36         44         50   \n",
      "\n",
      "    Cluster_9  Cluster_10 Network  \n",
      "15         54          61     CNN  \n",
      "    Unnamed: 0             Program  Cluster_0  Cluster_1  Cluster_2  \\\n",
      "16          16  CNN New Day Sunday          0          8         14   \n",
      "\n",
      "    Cluster_3  Cluster_4  Cluster_5  Cluster_6  Cluster_7  Cluster_8  \\\n",
      "16         18         25         31         36         44         50   \n",
      "\n",
      "    Cluster_9  Cluster_10 Network  \n",
      "16         54          61     CNN  \n",
      "    Unnamed: 0                 Program  Cluster_0  Cluster_1  Cluster_2  \\\n",
      "18          18  CNN STATE OF THE UNION          1          7         14   \n",
      "\n",
      "    Cluster_3  Cluster_4  Cluster_5  Cluster_6  Cluster_7  Cluster_8  \\\n",
      "18         19         24         31         36         42         48   \n",
      "\n",
      "    Cluster_9  Cluster_10 Network  \n",
      "18         54          60     CNN  \n",
      "    Unnamed: 0         Program  Cluster_0  Cluster_1  Cluster_2  Cluster_3  \\\n",
      "19          19  CNN Smerconish          1          7         13         19   \n",
      "\n",
      "    Cluster_4  Cluster_5  Cluster_6  Cluster_7  Cluster_8  Cluster_9  \\\n",
      "19         24         31         36         42         48         54   \n",
      "\n",
      "    Cluster_10 Network  \n",
      "19          60     CNN  \n",
      "    Unnamed: 0                 Program  Cluster_0  Cluster_1  Cluster_2  \\\n",
      "20          20  CNN THE SITUATION ROOM          1          8         14   \n",
      "\n",
      "    Cluster_3  Cluster_4  Cluster_5  Cluster_6  Cluster_7  Cluster_8  \\\n",
      "20         18         25         31         36         44         50   \n",
      "\n",
      "    Cluster_9  Cluster_10 Network  \n",
      "20         54          61     CNN  \n",
      "    Unnamed: 0                        Program  Cluster_0  Cluster_1  \\\n",
      "21          21  CNN The Lead with Jake Tapper          0          8   \n",
      "\n",
      "    Cluster_2  Cluster_3  Cluster_4  Cluster_5  Cluster_6  Cluster_7  \\\n",
      "21         14         18         25         31         36         44   \n",
      "\n",
      "    Cluster_8  Cluster_9  Cluster_10 Network  \n",
      "21         50         54          61     CNN  \n",
      "    Unnamed: 0                       Program  Cluster_0  Cluster_1  Cluster_2  \\\n",
      "23          23  Fox News Network FOX HANNITY          1          7         13   \n",
      "\n",
      "    Cluster_3  Cluster_4  Cluster_5  Cluster_6  Cluster_7  Cluster_8  \\\n",
      "23         19         24         32         38         42         48   \n",
      "\n",
      "    Cluster_9  Cluster_10 Network  \n",
      "23         55          60     Fox  \n",
      "    Unnamed: 0                            Program  Cluster_0  Cluster_1  \\\n",
      "24          24  Fox News Network FOX NEWS @ NIGHT          1          7   \n",
      "\n",
      "    Cluster_2  Cluster_3  Cluster_4  Cluster_5  Cluster_6  Cluster_7  \\\n",
      "24         13         19         24         32         38         42   \n",
      "\n",
      "    Cluster_8  Cluster_9  Cluster_10 Network  \n",
      "24         48         55          60     Fox  \n",
      "    Unnamed: 0                           Program  Cluster_0  Cluster_1  \\\n",
      "25          25  Fox News Network FOX NEWS SUNDAY          1          7   \n",
      "\n",
      "    Cluster_2  Cluster_3  Cluster_4  Cluster_5  Cluster_6  Cluster_7  \\\n",
      "25         13         19         24         32         38         42   \n",
      "\n",
      "    Cluster_8  Cluster_9  Cluster_10 Network  \n",
      "25         48         55          60     Fox  \n",
      "    Unnamed: 0                                            Program  Cluster_0  \\\n",
      "26          26  Fox News Network FOX SPECIAL REPORT WITH BRET ...          1   \n",
      "\n",
      "    Cluster_1  Cluster_2  Cluster_3  Cluster_4  Cluster_5  Cluster_6  \\\n",
      "26          7         13         19         24         32         38   \n",
      "\n",
      "    Cluster_7  Cluster_8  Cluster_9  Cluster_10 Network  \n",
      "26         42         48         55          60     Fox  \n",
      "    Unnamed: 0                          Program  Cluster_0  Cluster_1  \\\n",
      "27          27  Fox News Network INGRAHAM ANGLE          1          7   \n",
      "\n",
      "    Cluster_2  Cluster_3  Cluster_4  Cluster_5  Cluster_6  Cluster_7  \\\n",
      "27         13         19         24         32         38         42   \n",
      "\n",
      "    Cluster_8  Cluster_9  Cluster_10 Network  \n",
      "27         48         55          60     Fox  \n",
      "    Unnamed: 0                                    Program  Cluster_0  \\\n",
      "28          28  Fox News Network JUSTICE WITH JUDGE PIRRO          1   \n",
      "\n",
      "    Cluster_1  Cluster_2  Cluster_3  Cluster_4  Cluster_5  Cluster_6  \\\n",
      "28          7         13         19         24         32         38   \n",
      "\n",
      "    Cluster_7  Cluster_8  Cluster_9  Cluster_10 Network  \n",
      "28         42         48         55          60     Fox  \n",
      "    Unnamed: 0                              Program  Cluster_0  Cluster_1  \\\n",
      "29          29  Fox News Network LIFE LIBERTY LEVIN          1          8   \n",
      "\n",
      "    Cluster_2  Cluster_3  Cluster_4  Cluster_5  Cluster_6  Cluster_7  \\\n",
      "29         13         19         24         32         38         42   \n",
      "\n",
      "    Cluster_8  Cluster_9  Cluster_10 Network  \n",
      "29         48         55          60     Fox  \n",
      "    Unnamed: 0                      Program  Cluster_0  Cluster_1  Cluster_2  \\\n",
      "31          31  Fox News Network MEDIA BUZZ          1          7         13   \n",
      "\n",
      "    Cluster_3  Cluster_4  Cluster_5  Cluster_6  Cluster_7  Cluster_8  \\\n",
      "31         18         24         31         38         42         48   \n",
      "\n",
      "    Cluster_9  Cluster_10 Network  \n",
      "31         55          61     Fox  \n",
      "    Unnamed: 0                                  Program  Cluster_0  Cluster_1  \\\n",
      "32          32  Fox News Network SUNDAY MORNING FUTURES          1          7   \n",
      "\n",
      "    Cluster_2  Cluster_3  Cluster_4  Cluster_5  Cluster_6  Cluster_7  \\\n",
      "32         13         19         24         32         38         42   \n",
      "\n",
      "    Cluster_8  Cluster_9  Cluster_10 Network  \n",
      "32         48         55          60     Fox  \n",
      "    Unnamed: 0                    Program  Cluster_0  Cluster_1  Cluster_2  \\\n",
      "33          33  Fox News Network THE FIVE          1          7         13   \n",
      "\n",
      "    Cluster_3  Cluster_4  Cluster_5  Cluster_6  Cluster_7  Cluster_8  \\\n",
      "33         19         24         32         38         42         48   \n",
      "\n",
      "    Cluster_9  Cluster_10 Network  \n",
      "33         55          60     Fox  \n",
      "    Unnamed: 0                                 Program  Cluster_0  Cluster_1  \\\n",
      "34          34  Fox News Network THE GREG GUTFELD SHOW          0          7   \n",
      "\n",
      "    Cluster_2  Cluster_3  Cluster_4  Cluster_5  Cluster_6  Cluster_7  \\\n",
      "34         13         19         24         32         38         42   \n",
      "\n",
      "    Cluster_8  Cluster_9  Cluster_10 Network  \n",
      "34         48         55          60     Fox  \n",
      "    Unnamed: 0                               Program  Cluster_0  Cluster_1  \\\n",
      "35          35  Fox News Network THE NEXT REVOLUTION          1          7   \n",
      "\n",
      "    Cluster_2  Cluster_3  Cluster_4  Cluster_5  Cluster_6  Cluster_7  \\\n",
      "35         13         19         24         32         38         42   \n",
      "\n",
      "    Cluster_8  Cluster_9  Cluster_10 Network  \n",
      "35         48         55          60     Fox  \n",
      "    Unnamed: 0                                           Program  Cluster_0  \\\n",
      "36          36  Fox News Network THE STORY WITH MARTHA MACCALLUM          1   \n",
      "\n",
      "    Cluster_1  Cluster_2  Cluster_3  Cluster_4  Cluster_5  Cluster_6  \\\n",
      "36          7         13         19         24         32         38   \n",
      "\n",
      "    Cluster_7  Cluster_8  Cluster_9  Cluster_10 Network  \n",
      "36         42         48         55          60     Fox  \n",
      "    Unnamed: 0                                  Program  Cluster_0  Cluster_1  \\\n",
      "37          37  Fox News Network TUCKER CARLSON TONIGHT          1          7   \n",
      "\n",
      "    Cluster_2  Cluster_3  Cluster_4  Cluster_5  Cluster_6  Cluster_7  \\\n",
      "37         13         19         24         32         38         42   \n",
      "\n",
      "    Cluster_8  Cluster_9  Cluster_10 Network  \n",
      "37         48         55          60     Fox  \n",
      "    Unnamed: 0                         Program  Cluster_0  Cluster_1  \\\n",
      "38          38  Fox News Network WATTERS WORLD          1          7   \n",
      "\n",
      "    Cluster_2  Cluster_3  Cluster_4  Cluster_5  Cluster_6  Cluster_7  \\\n",
      "38         13         19         24         32         38         42   \n",
      "\n",
      "    Cluster_8  Cluster_9  Cluster_10 Network  \n",
      "38         48         55          60     Fox  \n",
      "    Unnamed: 0                                       Program  Cluster_0  \\\n",
      "39          39  Fox News Network YOUR WORLD WITH NEIL CAVUTO          1   \n",
      "\n",
      "    Cluster_1  Cluster_2  Cluster_3  Cluster_4  Cluster_5  Cluster_6  \\\n",
      "39          7         13         20         26         30         38   \n",
      "\n",
      "    Cluster_7  Cluster_8  Cluster_9  Cluster_10 Network  \n",
      "39         42         48         55          60     Fox  \n",
      "    Unnamed: 0                              Program  Cluster_0  Cluster_1  \\\n",
      "40          40  MSNBC 11TH HOUR WITH BRIAN WILLIAMS          1          6   \n",
      "\n",
      "    Cluster_2  Cluster_3  Cluster_4  Cluster_5  Cluster_6  Cluster_7  \\\n",
      "40         12         20         26         30         37         43   \n",
      "\n",
      "    Cluster_8  Cluster_9  Cluster_10 Network  \n",
      "40         49         56          62   MSNBC  \n",
      "    Unnamed: 0                        Program  Cluster_0  Cluster_1  \\\n",
      "41          41  MSNBC ALL IN with CHRIS HAYES          1          6   \n",
      "\n",
      "    Cluster_2  Cluster_3  Cluster_4  Cluster_5  Cluster_6  Cluster_7  \\\n",
      "41         12         20         26         30         37         43   \n",
      "\n",
      "    Cluster_8  Cluster_9  Cluster_10 Network  \n",
      "41         49         56          62   MSNBC  \n",
      "    Unnamed: 0           Program  Cluster_0  Cluster_1  Cluster_2  Cluster_3  \\\n",
      "44          44  MSNBC MSNBC LIVE          2          6         13         20   \n",
      "\n",
      "    Cluster_4  Cluster_5  Cluster_6  Cluster_7  Cluster_8  Cluster_9  \\\n",
      "44         26         30         37         43         49         56   \n",
      "\n",
      "    Cluster_10 Network  \n",
      "44          62   MSNBC  \n",
      "    Unnamed: 0          Program  Cluster_0  Cluster_1  Cluster_2  Cluster_3  \\\n",
      "46          46  MSNBC MTP DAILY          1          6         12         20   \n",
      "\n",
      "    Cluster_4  Cluster_5  Cluster_6  Cluster_7  Cluster_8  Cluster_9  \\\n",
      "46         26         30         37         43         49         56   \n",
      "\n",
      "    Cluster_10 Network  \n",
      "46          62   MSNBC  \n",
      "    Unnamed: 0                Program  Cluster_0  Cluster_1  Cluster_2  \\\n",
      "47          47  MSNBC POLITICS NATION          1          6         12   \n",
      "\n",
      "    Cluster_3  Cluster_4  Cluster_5  Cluster_6  Cluster_7  Cluster_8  \\\n",
      "47         20         26         30         37         43         49   \n",
      "\n",
      "    Cluster_9  Cluster_10 Network  \n",
      "47         56          62   MSNBC  \n",
      "    Unnamed: 0                         Program  Cluster_0  Cluster_1  \\\n",
      "48          48  MSNBC THE BEAT WITH ARI MELBER          1          6   \n",
      "\n",
      "    Cluster_2  Cluster_3  Cluster_4  Cluster_5  Cluster_6  Cluster_7  \\\n",
      "48         12         20         26         30         37         43   \n",
      "\n",
      "    Cluster_8  Cluster_9  Cluster_10 Network  \n",
      "48         49         56          62   MSNBC  \n",
      "    Unnamed: 0                                      Program  Cluster_0  \\\n",
      "49          49  MSNBC THE LAST WORD WITH LAWRENCE O`DONNELL          1   \n",
      "\n",
      "    Cluster_1  Cluster_2  Cluster_3  Cluster_4  Cluster_5  Cluster_6  \\\n",
      "49          6         12         20         26         30         37   \n",
      "\n",
      "    Cluster_7  Cluster_8  Cluster_9  Cluster_10 Network  \n",
      "49         43         49         56          62   MSNBC  \n",
      "    Unnamed: 0                       Program  Cluster_0  Cluster_1  Cluster_2  \\\n",
      "50          50  MSNBC THE RACHEL MADDOW SHOW          1          6         12   \n",
      "\n",
      "    Cluster_3  Cluster_4  Cluster_5  Cluster_6  Cluster_7  Cluster_8  \\\n",
      "50         20         26         30         37         43         49   \n",
      "\n",
      "    Cluster_9  Cluster_10 Network  \n",
      "50         56          62   MSNBC  \n"
     ]
    }
   ],
   "source": [
    "for i in range(len(df)):\n",
    "    print(df[i:i+1])"
   ]
  },
  {
   "cell_type": "code",
   "execution_count": 30,
   "metadata": {},
   "outputs": [],
   "source": [
    "from sklearn.decomposition import PCA\n",
    "pca = PCA(n_components=2)\n",
    "pca_df = pd.DataFrame(pca.fit(df[clusts]).transform(df[clusts]), columns = ['pca1','pca2'])\n",
    "pca_df['Network'] = list(df['Network'])\n",
    "pca_df['Program'] = list(df['Program'])\n",
    "#pca_df\n"
   ]
  },
  {
   "cell_type": "code",
   "execution_count": 31,
   "metadata": {},
   "outputs": [
    {
     "name": "stdout",
     "output_type": "stream",
     "text": [
      "41\n",
      "17\n",
      "16\n",
      "8\n"
     ]
    },
    {
     "data": {
      "image/png": "[encoded data removed]",
      "text/plain": [
       "<Figure size 640x480 with 1 Axes>"
      ]
     },
     "metadata": {},
     "output_type": "display_data"
    }
   ],
   "source": [
    "import matplotlib.pyplot as plt\n",
    "import numpy as np\n",
    "#weighted network of programs\n",
    "plt.figure()\n",
    "lw = 2\n",
    "print(len(pca_df))\n",
    "color = {'CNN': 'tan', 'MSNBC' : 'blue','Fox' : 'red'}\n",
    "for c in pca_df['Network'].unique():\n",
    "\n",
    "    plt.scatter(\n",
    "        pca_df[pca_df[\"Network\"] == c][\"pca1\"], pca_df[pca_df[\"Network\"] == c][\"pca2\"],  alpha=0.4, lw=lw, label=c, color = color[c]\n",
    "    )\n",
    "    print(len(pca_df[pca_df[\"Network\"] == c]))\n",
    "\n",
    "    #plt.show()\n",
    "\n",
    "\"\"\"for i in pca_df.index:\n",
    "    if np.random.randint(10) < 2:\n",
    "        plt.text(x=pca_df.pca1[i]+0.01,y=pca_df.pca2[i]+0.01,s=pca_df.Program[i], \n",
    "            fontdict=dict(color='red',size=10),\n",
    "            bbox=dict(facecolor='yellow',alpha=0.5))\"\"\"\n",
    " \n",
    "\n",
    "plt.legend(loc=\"best\", shadow=False, scatterpoints=1)\n",
    "plt.title(\"Topic-Sentiment Similarity Clustering PCA\")\n",
    "\n",
    "\n",
    "\n",
    "plt.show()"
   ]
  },
  {
   "cell_type": "code",
   "execution_count": 32,
   "metadata": {},
   "outputs": [
    {
     "name": "stderr",
     "output_type": "stream",
     "text": [
      "c:\\ProgramData\\anaconda3\\Lib\\site-packages\\sklearn\\cluster\\_kmeans.py:870: FutureWarning:\n",
      "\n",
      "The default value of `n_init` will change from 10 to 'auto' in 1.4. Set the value of `n_init` explicitly to suppress the warning\n",
      "\n",
      "c:\\ProgramData\\anaconda3\\Lib\\site-packages\\sklearn\\cluster\\_kmeans.py:1382: UserWarning:\n",
      "\n",
      "KMeans is known to have a memory leak on Windows with MKL, when there are less chunks than available threads. You can avoid it by setting the environment variable OMP_NUM_THREADS=1.\n",
      "\n"
     ]
    },
    {
     "data": {
      "text/html": [
       "<div>\n",
       "<style scoped>\n",
       "    .dataframe tbody tr th:only-of-type {\n",
       "        vertical-align: middle;\n",
       "    }\n",
       "\n",
       "    .dataframe tbody tr th {\n",
       "        vertical-align: top;\n",
       "    }\n",
       "\n",
       "    .dataframe thead th {\n",
       "        text-align: right;\n",
       "    }\n",
       "</style>\n",
       "<table border=\"1\" class=\"dataframe\">\n",
       "  <thead>\n",
       "    <tr style=\"text-align: right;\">\n",
       "      <th></th>\n",
       "      <th>pca1</th>\n",
       "      <th>pca2</th>\n",
       "      <th>Network</th>\n",
       "      <th>Program</th>\n",
       "      <th>cluster</th>\n",
       "    </tr>\n",
       "  </thead>\n",
       "  <tbody>\n",
       "    <tr>\n",
       "      <th>0</th>\n",
       "      <td>-1.296210</td>\n",
       "      <td>1.590572</td>\n",
       "      <td>CNN</td>\n",
       "      <td>CNN ANDERSON COOPER 360 DEGREES</td>\n",
       "      <td>2</td>\n",
       "    </tr>\n",
       "    <tr>\n",
       "      <th>1</th>\n",
       "      <td>-0.677250</td>\n",
       "      <td>0.462551</td>\n",
       "      <td>CNN</td>\n",
       "      <td>CNN CNN LIVE EVENT/SPECIAL</td>\n",
       "      <td>3</td>\n",
       "    </tr>\n",
       "    <tr>\n",
       "      <th>2</th>\n",
       "      <td>-0.304720</td>\n",
       "      <td>2.798265</td>\n",
       "      <td>CNN</td>\n",
       "      <td>CNN CNN NEWSROOM</td>\n",
       "      <td>2</td>\n",
       "    </tr>\n",
       "    <tr>\n",
       "      <th>3</th>\n",
       "      <td>0.573984</td>\n",
       "      <td>1.496502</td>\n",
       "      <td>CNN</td>\n",
       "      <td>CNN CNN RELIABLE SOURCES</td>\n",
       "      <td>2</td>\n",
       "    </tr>\n",
       "    <tr>\n",
       "      <th>4</th>\n",
       "      <td>-0.196399</td>\n",
       "      <td>0.019250</td>\n",
       "      <td>CNN</td>\n",
       "      <td>CNN CNN Special Reports</td>\n",
       "      <td>3</td>\n",
       "    </tr>\n",
       "    <tr>\n",
       "      <th>5</th>\n",
       "      <td>-0.883337</td>\n",
       "      <td>1.879483</td>\n",
       "      <td>CNN</td>\n",
       "      <td>CNN CNN Tonight</td>\n",
       "      <td>2</td>\n",
       "    </tr>\n",
       "    <tr>\n",
       "      <th>6</th>\n",
       "      <td>-2.028757</td>\n",
       "      <td>-0.640910</td>\n",
       "      <td>CNN</td>\n",
       "      <td>CNN CUOMO PRIME TIME</td>\n",
       "      <td>0</td>\n",
       "    </tr>\n",
       "    <tr>\n",
       "      <th>7</th>\n",
       "      <td>-2.028757</td>\n",
       "      <td>-0.640910</td>\n",
       "      <td>CNN</td>\n",
       "      <td>CNN ERIN BURNETT OUTFRONT</td>\n",
       "      <td>0</td>\n",
       "    </tr>\n",
       "    <tr>\n",
       "      <th>8</th>\n",
       "      <td>1.807917</td>\n",
       "      <td>0.366425</td>\n",
       "      <td>CNN</td>\n",
       "      <td>CNN FAREED ZAKARIA GPS</td>\n",
       "      <td>1</td>\n",
       "    </tr>\n",
       "    <tr>\n",
       "      <th>9</th>\n",
       "      <td>-1.154310</td>\n",
       "      <td>-0.626855</td>\n",
       "      <td>CNN</td>\n",
       "      <td>CNN Inside Politics</td>\n",
       "      <td>0</td>\n",
       "    </tr>\n",
       "    <tr>\n",
       "      <th>10</th>\n",
       "      <td>-0.413366</td>\n",
       "      <td>1.825834</td>\n",
       "      <td>CNN</td>\n",
       "      <td>CNN New Day</td>\n",
       "      <td>2</td>\n",
       "    </tr>\n",
       "    <tr>\n",
       "      <th>11</th>\n",
       "      <td>-0.304720</td>\n",
       "      <td>2.798265</td>\n",
       "      <td>CNN</td>\n",
       "      <td>CNN New Day Saturday</td>\n",
       "      <td>2</td>\n",
       "    </tr>\n",
       "    <tr>\n",
       "      <th>12</th>\n",
       "      <td>-0.304720</td>\n",
       "      <td>2.798265</td>\n",
       "      <td>CNN</td>\n",
       "      <td>CNN New Day Sunday</td>\n",
       "      <td>2</td>\n",
       "    </tr>\n",
       "    <tr>\n",
       "      <th>13</th>\n",
       "      <td>-2.028757</td>\n",
       "      <td>-0.640910</td>\n",
       "      <td>CNN</td>\n",
       "      <td>CNN STATE OF THE UNION</td>\n",
       "      <td>0</td>\n",
       "    </tr>\n",
       "    <tr>\n",
       "      <th>14</th>\n",
       "      <td>-0.684341</td>\n",
       "      <td>0.224990</td>\n",
       "      <td>CNN</td>\n",
       "      <td>CNN Smerconish</td>\n",
       "      <td>3</td>\n",
       "    </tr>\n",
       "    <tr>\n",
       "      <th>15</th>\n",
       "      <td>-0.483462</td>\n",
       "      <td>0.962695</td>\n",
       "      <td>CNN</td>\n",
       "      <td>CNN THE SITUATION ROOM</td>\n",
       "      <td>3</td>\n",
       "    </tr>\n",
       "    <tr>\n",
       "      <th>16</th>\n",
       "      <td>-0.883337</td>\n",
       "      <td>1.879483</td>\n",
       "      <td>CNN</td>\n",
       "      <td>CNN The Lead with Jake Tapper</td>\n",
       "      <td>2</td>\n",
       "    </tr>\n",
       "    <tr>\n",
       "      <th>17</th>\n",
       "      <td>2.136495</td>\n",
       "      <td>-0.598978</td>\n",
       "      <td>Fox</td>\n",
       "      <td>Fox News Network FOX HANNITY</td>\n",
       "      <td>1</td>\n",
       "    </tr>\n",
       "    <tr>\n",
       "      <th>18</th>\n",
       "      <td>2.008752</td>\n",
       "      <td>-1.170016</td>\n",
       "      <td>Fox</td>\n",
       "      <td>Fox News Network FOX NEWS @ NIGHT</td>\n",
       "      <td>1</td>\n",
       "    </tr>\n",
       "    <tr>\n",
       "      <th>19</th>\n",
       "      <td>-1.188465</td>\n",
       "      <td>-0.888683</td>\n",
       "      <td>Fox</td>\n",
       "      <td>Fox News Network FOX NEWS SUNDAY</td>\n",
       "      <td>0</td>\n",
       "    </tr>\n",
       "    <tr>\n",
       "      <th>20</th>\n",
       "      <td>2.008752</td>\n",
       "      <td>-1.170016</td>\n",
       "      <td>Fox</td>\n",
       "      <td>Fox News Network FOX SPECIAL REPORT WITH BRET ...</td>\n",
       "      <td>1</td>\n",
       "    </tr>\n",
       "    <tr>\n",
       "      <th>21</th>\n",
       "      <td>2.136495</td>\n",
       "      <td>-0.598978</td>\n",
       "      <td>Fox</td>\n",
       "      <td>Fox News Network INGRAHAM ANGLE</td>\n",
       "      <td>1</td>\n",
       "    </tr>\n",
       "    <tr>\n",
       "      <th>22</th>\n",
       "      <td>2.136495</td>\n",
       "      <td>-0.598978</td>\n",
       "      <td>Fox</td>\n",
       "      <td>Fox News Network JUSTICE WITH JUDGE PIRRO</td>\n",
       "      <td>1</td>\n",
       "    </tr>\n",
       "    <tr>\n",
       "      <th>23</th>\n",
       "      <td>2.136495</td>\n",
       "      <td>-0.598978</td>\n",
       "      <td>Fox</td>\n",
       "      <td>Fox News Network LIFE LIBERTY LEVIN</td>\n",
       "      <td>1</td>\n",
       "    </tr>\n",
       "    <tr>\n",
       "      <th>24</th>\n",
       "      <td>0.765128</td>\n",
       "      <td>-0.342892</td>\n",
       "      <td>Fox</td>\n",
       "      <td>Fox News Network MEDIA BUZZ</td>\n",
       "      <td>3</td>\n",
       "    </tr>\n",
       "    <tr>\n",
       "      <th>25</th>\n",
       "      <td>2.136495</td>\n",
       "      <td>-0.598978</td>\n",
       "      <td>Fox</td>\n",
       "      <td>Fox News Network SUNDAY MORNING FUTURES</td>\n",
       "      <td>1</td>\n",
       "    </tr>\n",
       "    <tr>\n",
       "      <th>26</th>\n",
       "      <td>2.136495</td>\n",
       "      <td>-0.598978</td>\n",
       "      <td>Fox</td>\n",
       "      <td>Fox News Network THE FIVE</td>\n",
       "      <td>1</td>\n",
       "    </tr>\n",
       "    <tr>\n",
       "      <th>27</th>\n",
       "      <td>2.257749</td>\n",
       "      <td>0.195023</td>\n",
       "      <td>Fox</td>\n",
       "      <td>Fox News Network THE GREG GUTFELD SHOW</td>\n",
       "      <td>1</td>\n",
       "    </tr>\n",
       "    <tr>\n",
       "      <th>28</th>\n",
       "      <td>2.490859</td>\n",
       "      <td>0.091750</td>\n",
       "      <td>Fox</td>\n",
       "      <td>Fox News Network THE NEXT REVOLUTION</td>\n",
       "      <td>1</td>\n",
       "    </tr>\n",
       "    <tr>\n",
       "      <th>29</th>\n",
       "      <td>2.008752</td>\n",
       "      <td>-1.170016</td>\n",
       "      <td>Fox</td>\n",
       "      <td>Fox News Network THE STORY WITH MARTHA MACCALLUM</td>\n",
       "      <td>1</td>\n",
       "    </tr>\n",
       "    <tr>\n",
       "      <th>30</th>\n",
       "      <td>2.490859</td>\n",
       "      <td>0.091750</td>\n",
       "      <td>Fox</td>\n",
       "      <td>Fox News Network TUCKER CARLSON TONIGHT</td>\n",
       "      <td>1</td>\n",
       "    </tr>\n",
       "    <tr>\n",
       "      <th>31</th>\n",
       "      <td>2.490859</td>\n",
       "      <td>0.091750</td>\n",
       "      <td>Fox</td>\n",
       "      <td>Fox News Network WATTERS WORLD</td>\n",
       "      <td>1</td>\n",
       "    </tr>\n",
       "    <tr>\n",
       "      <th>32</th>\n",
       "      <td>0.054945</td>\n",
       "      <td>-1.056856</td>\n",
       "      <td>Fox</td>\n",
       "      <td>Fox News Network YOUR WORLD WITH NEIL CAVUTO</td>\n",
       "      <td>3</td>\n",
       "    </tr>\n",
       "    <tr>\n",
       "      <th>33</th>\n",
       "      <td>-2.047913</td>\n",
       "      <td>-1.433156</td>\n",
       "      <td>MSNBC</td>\n",
       "      <td>MSNBC 11TH HOUR WITH BRIAN WILLIAMS</td>\n",
       "      <td>0</td>\n",
       "    </tr>\n",
       "    <tr>\n",
       "      <th>34</th>\n",
       "      <td>-2.047913</td>\n",
       "      <td>-1.433156</td>\n",
       "      <td>MSNBC</td>\n",
       "      <td>MSNBC ALL IN with CHRIS HAYES</td>\n",
       "      <td>0</td>\n",
       "    </tr>\n",
       "    <tr>\n",
       "      <th>35</th>\n",
       "      <td>-2.070669</td>\n",
       "      <td>-0.629397</td>\n",
       "      <td>MSNBC</td>\n",
       "      <td>MSNBC MSNBC LIVE</td>\n",
       "      <td>0</td>\n",
       "    </tr>\n",
       "    <tr>\n",
       "      <th>36</th>\n",
       "      <td>-2.247851</td>\n",
       "      <td>-0.974761</td>\n",
       "      <td>MSNBC</td>\n",
       "      <td>MSNBC MTP DAILY</td>\n",
       "      <td>0</td>\n",
       "    </tr>\n",
       "    <tr>\n",
       "      <th>37</th>\n",
       "      <td>-2.247851</td>\n",
       "      <td>-0.974761</td>\n",
       "      <td>MSNBC</td>\n",
       "      <td>MSNBC POLITICS NATION</td>\n",
       "      <td>0</td>\n",
       "    </tr>\n",
       "    <tr>\n",
       "      <th>38</th>\n",
       "      <td>-2.247851</td>\n",
       "      <td>-0.974761</td>\n",
       "      <td>MSNBC</td>\n",
       "      <td>MSNBC THE BEAT WITH ARI MELBER</td>\n",
       "      <td>0</td>\n",
       "    </tr>\n",
       "    <tr>\n",
       "      <th>39</th>\n",
       "      <td>-2.247851</td>\n",
       "      <td>-0.974761</td>\n",
       "      <td>MSNBC</td>\n",
       "      <td>MSNBC THE LAST WORD WITH LAWRENCE O`DONNELL</td>\n",
       "      <td>0</td>\n",
       "    </tr>\n",
       "    <tr>\n",
       "      <th>40</th>\n",
       "      <td>-1.758724</td>\n",
       "      <td>-0.236165</td>\n",
       "      <td>MSNBC</td>\n",
       "      <td>MSNBC THE RACHEL MADDOW SHOW</td>\n",
       "      <td>0</td>\n",
       "    </tr>\n",
       "  </tbody>\n",
       "</table>\n",
       "</div>"
      ],
      "text/plain": [
       "        pca1      pca2 Network  \\\n",
       "0  -1.296210  1.590572     CNN   \n",
       "1  -0.677250  0.462551     CNN   \n",
       "2  -0.304720  2.798265     CNN   \n",
       "3   0.573984  1.496502     CNN   \n",
       "4  -0.196399  0.019250     CNN   \n",
       "5  -0.883337  1.879483     CNN   \n",
       "6  -2.028757 -0.640910     CNN   \n",
       "7  -2.028757 -0.640910     CNN   \n",
       "8   1.807917  0.366425     CNN   \n",
       "9  -1.154310 -0.626855     CNN   \n",
       "10 -0.413366  1.825834     CNN   \n",
       "11 -0.304720  2.798265     CNN   \n",
       "12 -0.304720  2.798265     CNN   \n",
       "13 -2.028757 -0.640910     CNN   \n",
       "14 -0.684341  0.224990     CNN   \n",
       "15 -0.483462  0.962695     CNN   \n",
       "16 -0.883337  1.879483     CNN   \n",
       "17  2.136495 -0.598978     Fox   \n",
       "18  2.008752 -1.170016     Fox   \n",
       "19 -1.188465 -0.888683     Fox   \n",
       "20  2.008752 -1.170016     Fox   \n",
       "21  2.136495 -0.598978     Fox   \n",
       "22  2.136495 -0.598978     Fox   \n",
       "23  2.136495 -0.598978     Fox   \n",
       "24  0.765128 -0.342892     Fox   \n",
       "25  2.136495 -0.598978     Fox   \n",
       "26  2.136495 -0.598978     Fox   \n",
       "27  2.257749  0.195023     Fox   \n",
       "28  2.490859  0.091750     Fox   \n",
       "29  2.008752 -1.170016     Fox   \n",
       "30  2.490859  0.091750     Fox   \n",
       "31  2.490859  0.091750     Fox   \n",
       "32  0.054945 -1.056856     Fox   \n",
       "33 -2.047913 -1.433156   MSNBC   \n",
       "34 -2.047913 -1.433156   MSNBC   \n",
       "35 -2.070669 -0.629397   MSNBC   \n",
       "36 -2.247851 -0.974761   MSNBC   \n",
       "37 -2.247851 -0.974761   MSNBC   \n",
       "38 -2.247851 -0.974761   MSNBC   \n",
       "39 -2.247851 -0.974761   MSNBC   \n",
       "40 -1.758724 -0.236165   MSNBC   \n",
       "\n",
       "                                              Program  cluster  \n",
       "0                     CNN ANDERSON COOPER 360 DEGREES        2  \n",
       "1                          CNN CNN LIVE EVENT/SPECIAL        3  \n",
       "2                                    CNN CNN NEWSROOM        2  \n",
       "3                            CNN CNN RELIABLE SOURCES        2  \n",
       "4                             CNN CNN Special Reports        3  \n",
       "5                                     CNN CNN Tonight        2  \n",
       "6                                CNN CUOMO PRIME TIME        0  \n",
       "7                           CNN ERIN BURNETT OUTFRONT        0  \n",
       "8                              CNN FAREED ZAKARIA GPS        1  \n",
       "9                                 CNN Inside Politics        0  \n",
       "10                                        CNN New Day        2  \n",
       "11                               CNN New Day Saturday        2  \n",
       "12                                 CNN New Day Sunday        2  \n",
       "13                             CNN STATE OF THE UNION        0  \n",
       "14                                     CNN Smerconish        3  \n",
       "15                             CNN THE SITUATION ROOM        3  \n",
       "16                      CNN The Lead with Jake Tapper        2  \n",
       "17                       Fox News Network FOX HANNITY        1  \n",
       "18                  Fox News Network FOX NEWS @ NIGHT        1  \n",
       "19                   Fox News Network FOX NEWS SUNDAY        0  \n",
       "20  Fox News Network FOX SPECIAL REPORT WITH BRET ...        1  \n",
       "21                    Fox News Network INGRAHAM ANGLE        1  \n",
       "22          Fox News Network JUSTICE WITH JUDGE PIRRO        1  \n",
       "23                Fox News Network LIFE LIBERTY LEVIN        1  \n",
       "24                        Fox News Network MEDIA BUZZ        3  \n",
       "25            Fox News Network SUNDAY MORNING FUTURES        1  \n",
       "26                          Fox News Network THE FIVE        1  \n",
       "27             Fox News Network THE GREG GUTFELD SHOW        1  \n",
       "28               Fox News Network THE NEXT REVOLUTION        1  \n",
       "29   Fox News Network THE STORY WITH MARTHA MACCALLUM        1  \n",
       "30            Fox News Network TUCKER CARLSON TONIGHT        1  \n",
       "31                     Fox News Network WATTERS WORLD        1  \n",
       "32       Fox News Network YOUR WORLD WITH NEIL CAVUTO        3  \n",
       "33                MSNBC 11TH HOUR WITH BRIAN WILLIAMS        0  \n",
       "34                      MSNBC ALL IN with CHRIS HAYES        0  \n",
       "35                                   MSNBC MSNBC LIVE        0  \n",
       "36                                    MSNBC MTP DAILY        0  \n",
       "37                              MSNBC POLITICS NATION        0  \n",
       "38                     MSNBC THE BEAT WITH ARI MELBER        0  \n",
       "39        MSNBC THE LAST WORD WITH LAWRENCE O`DONNELL        0  \n",
       "40                       MSNBC THE RACHEL MADDOW SHOW        0  "
      ]
     },
     "execution_count": 32,
     "metadata": {},
     "output_type": "execute_result"
    }
   ],
   "source": [
    "from sklearn.cluster import KMeans\n",
    "kmeans = KMeans(n_clusters=4) \n",
    "kmeans.fit(pca_df[['pca1','pca2']])\n",
    "cluster = kmeans.predict(pca_df[['pca1','pca2']])\n",
    "pca_df['cluster'] = cluster\n",
    "pca_df.head(45)"
   ]
  },
  {
   "cell_type": "code",
   "execution_count": 28,
   "metadata": {},
   "outputs": [
    {
     "name": "stdout",
     "output_type": "stream",
     "text": [
      "41\n",
      "11\n",
      "5\n",
      "17\n",
      "8\n"
     ]
    },
    {
     "data": {
      "image/png": "[encoded data removed]",
      "text/plain": [
       "<Figure size 640x480 with 1 Axes>"
      ]
     },
     "metadata": {},
     "output_type": "display_data"
    }
   ],
   "source": [
    "plt.figure()\n",
    "lw = 2\n",
    "print(len(pca_df))\n",
    "for c in pca_df['cluster'].unique():\n",
    "    plt.scatter(\n",
    "        pca_df[pca_df[\"cluster\"] == c][\"pca1\"], pca_df[pca_df[\"cluster\"] == c][\"pca2\"],  alpha=0.4, lw=lw, label=c\n",
    "    )\n",
    "    print(len(pca_df[pca_df[\"cluster\"] == c]))\n",
    "    #plt.show()\n",
    "\n",
    "\"\"\"for i in pca_df.index:\n",
    "    if np.random.randint(10) < 2:\n",
    "        plt.text(x=pca_df.pca1[i]+0.01,y=pca_df.pca2[i]+0.01,s=pca_df.Program[i], \n",
    "            fontdict=dict(color='red',size=10),\n",
    "            bbox=dict(facecolor='yellow',alpha=0.5))\"\"\"\n",
    " \n",
    "\n",
    "plt.legend(loc=\"best\", shadow=False, scatterpoints=1)\n",
    "plt.title(\"PCA of Program Clusters\")\n",
    "\n",
    "\n",
    "\n",
    "plt.show()"
   ]
  }
 ],
 "metadata": {
  "kernelspec": {
   "display_name": "Python 3",
   "language": "python",
   "name": "python3"
  },
  "language_info": {
   "codemirror_mode": {
    "name": "ipython",
    "version": 3
   },
   "file_extension": ".py",
   "mimetype": "text/x-python",
   "name": "python",
   "nbconvert_exporter": "python",
   "pygments_lexer": "ipython3",
   "version": "3.11.3"
  },
  "orig_nbformat": 4,
  "vscode": {
   "interpreter": {
    "hash": "26de051ba29f2982a8de78e945f0abaf191376122a1563185a90213a26c5da77"
   }
  }
 },
 "nbformat": 4,
 "nbformat_minor": 2
}
